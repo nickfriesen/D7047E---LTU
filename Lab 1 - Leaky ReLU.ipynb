{
 "cells": [
  {
   "cell_type": "code",
   "execution_count": null,
   "metadata": {
    "collapsed": true
   },
   "outputs": [],
   "source": [
    "### Lab 1\n",
    "# Nick Lucas Friesen"
   ]
  },
  {
   "cell_type": "code",
   "execution_count": 2,
   "outputs": [],
   "source": [
    "### Import libraries\n",
    "import torch\n",
    "import torchvision\n",
    "import torchvision.transforms as transforms\n",
    "import matplotlib.pyplot as plt\n",
    "import numpy as np\n",
    "import torch.nn as nn\n",
    "import torch.nn.functional as F\n",
    "import torch.optim as optim\n",
    "from torch.utils.tensorboard import SummaryWriter\n"
   ],
   "metadata": {
    "collapsed": false,
    "pycharm": {
     "name": "#%%\n"
    }
   }
  },
  {
   "cell_type": "code",
   "execution_count": 3,
   "outputs": [
    {
     "name": "stdout",
     "output_type": "stream",
     "text": [
      "Files already downloaded and verified\n",
      "Files already downloaded and verified\n"
     ]
    }
   ],
   "source": [
    "### Download and Prepare CIFAR-10 dataset\n",
    "\n",
    "transform = transforms.Compose(\n",
    "    [transforms.ToTensor(),\n",
    "     transforms.Normalize((0.5, 0.5, 0.5), (0.5, 0.5, 0.5))]) # transform to Tensors of normalized range [-1, 1]\n",
    "\n",
    "batch_size = 4\n",
    "\n",
    "traindata = torchvision.datasets.CIFAR10(root='./data', train=True, download=True, transform=transform)\n",
    "trainloader = torch.utils.data.DataLoader(traindata, batch_size=batch_size, shuffle=True, num_workers=2)\n",
    "\n",
    "testdata = torchvision.datasets.CIFAR10(root='./data', train=False, download=True, transform=transform)\n",
    "testloader = torch.utils.data.DataLoader(testdata, batch_size=batch_size, shuffle=False, num_workers=2)\n",
    "\n",
    "classes = ('plane', 'car', 'bird', 'cat', 'deer', 'dog', 'frog', 'horse', 'ship', 'truck')\n"
   ],
   "metadata": {
    "collapsed": false,
    "pycharm": {
     "name": "#%%\n"
    }
   }
  },
  {
   "cell_type": "code",
   "execution_count": 10,
   "outputs": [
    {
     "data": {
      "text/plain": "<Figure size 640x480 with 1 Axes>",
      "image/png": "[encoded data removed]"
     },
     "metadata": {},
     "output_type": "display_data"
    },
    {
     "name": "stdout",
     "output_type": "stream",
     "text": [
      "horse truck dog   plane\n"
     ]
    }
   ],
   "source": [
    "### Functions to show an image\n",
    "\n",
    "def imshow(img):\n",
    "    img = img / 2 + 0.5     # unnormalize\n",
    "    npimg = img.numpy()\n",
    "    plt.imshow(np.transpose(npimg, (1, 2, 0)))\n",
    "    plt.show()\n",
    "\n",
    "\n",
    "# get some random training images\n",
    "dataiter = iter(trainloader)\n",
    "images, labels = next(dataiter)\n",
    "\n",
    "# show images\n",
    "imshow(torchvision.utils.make_grid(images))\n",
    "# print labels\n",
    "print(' '.join(f'{classes[labels[j]]:5s}' for j in range(batch_size)))\n"
   ],
   "metadata": {
    "collapsed": false,
    "pycharm": {
     "name": "#%%\n"
    }
   }
  },
  {
   "cell_type": "code",
   "execution_count": 4,
   "outputs": [],
   "source": [
    "### Simple CNN network for classifying images\n",
    "\n",
    "class CNN(nn.Module):\n",
    "    def __init__(self):\n",
    "        super().__init__()\n",
    "        self.conv1 = nn.Conv2d(3, 6, 5) # 2D convolution\n",
    "        self.pool = nn.MaxPool2d(2, 2) # Pooling\n",
    "        self.conv2 = nn.Conv2d(6, 12, 5) # Second 2D convolution\n",
    "        self.fc1 = nn.Linear(12 * 5 * 5, 120)\n",
    "        self.fc2 = nn.Linear(120, 84)\n",
    "        self.fc3 = nn.Linear(84, 10)\n",
    "\n",
    "    def forward(self, x):\n",
    "        x = self.pool(F.leaky_relu(self.conv1(x)))\n",
    "        x = self.pool(F.leaky_relu(self.conv2(x)))\n",
    "        x = torch.flatten(x, 1) # flatten\n",
    "        x = F.relu(self.fc1(x))\n",
    "        x = F.relu(self.fc2(x))\n",
    "        x = self.fc3(x)\n",
    "\n",
    "        return x\n"
   ],
   "metadata": {
    "collapsed": false,
    "pycharm": {
     "name": "#%%\n"
    }
   }
  },
  {
   "cell_type": "code",
   "execution_count": 13,
   "outputs": [],
   "source": [
    "### Init CNN and tensorboard\n",
    "\n",
    "cnn = CNN()\n",
    "writer = SummaryWriter()\n"
   ],
   "metadata": {
    "collapsed": false,
    "pycharm": {
     "name": "#%%\n"
    }
   }
  },
  {
   "cell_type": "code",
   "execution_count": 14,
   "outputs": [],
   "source": [
    "### Loss and Optimizer\n",
    "\n",
    "criterion = nn.CrossEntropyLoss()\n",
    "optimizer = optim.Adam(cnn.parameters(), lr=0.0001) # switch learning here\n"
   ],
   "metadata": {
    "collapsed": false,
    "pycharm": {
     "name": "#%%\n"
    }
   }
  },
  {
   "cell_type": "code",
   "execution_count": 15,
   "outputs": [
    {
     "name": "stdout",
     "output_type": "stream",
     "text": [
      "[1,  2000] loss: 2.081\n",
      "[1,  4000] loss: 1.830\n",
      "[1,  6000] loss: 1.717\n",
      "[1,  8000] loss: 1.651\n",
      "[1, 10000] loss: 1.610\n",
      "[1, 12000] loss: 1.575\n",
      "[2,  2000] loss: 1.555\n",
      "[2,  4000] loss: 1.527\n",
      "[2,  6000] loss: 1.505\n",
      "[2,  8000] loss: 1.478\n",
      "[2, 10000] loss: 1.464\n",
      "[2, 12000] loss: 1.447\n",
      "[3,  2000] loss: 1.441\n",
      "[3,  4000] loss: 1.411\n",
      "[3,  6000] loss: 1.384\n",
      "[3,  8000] loss: 1.394\n",
      "[3, 10000] loss: 1.379\n",
      "[3, 12000] loss: 1.394\n",
      "[4,  2000] loss: 1.346\n",
      "[4,  4000] loss: 1.350\n",
      "[4,  6000] loss: 1.318\n",
      "[4,  8000] loss: 1.315\n",
      "[4, 10000] loss: 1.319\n",
      "[4, 12000] loss: 1.318\n",
      "[5,  2000] loss: 1.280\n",
      "[5,  4000] loss: 1.268\n",
      "[5,  6000] loss: 1.262\n",
      "[5,  8000] loss: 1.271\n",
      "[5, 10000] loss: 1.265\n",
      "[5, 12000] loss: 1.251\n",
      "[6,  2000] loss: 1.214\n",
      "[6,  4000] loss: 1.228\n",
      "[6,  6000] loss: 1.225\n",
      "[6,  8000] loss: 1.224\n",
      "[6, 10000] loss: 1.222\n",
      "[6, 12000] loss: 1.183\n",
      "[7,  2000] loss: 1.186\n",
      "[7,  4000] loss: 1.166\n",
      "[7,  6000] loss: 1.192\n",
      "[7,  8000] loss: 1.183\n",
      "[7, 10000] loss: 1.173\n",
      "[7, 12000] loss: 1.155\n",
      "[8,  2000] loss: 1.134\n",
      "[8,  4000] loss: 1.130\n",
      "[8,  6000] loss: 1.142\n",
      "[8,  8000] loss: 1.139\n",
      "[8, 10000] loss: 1.133\n",
      "[8, 12000] loss: 1.142\n",
      "[9,  2000] loss: 1.086\n",
      "[9,  4000] loss: 1.089\n",
      "[9,  6000] loss: 1.111\n",
      "[9,  8000] loss: 1.114\n",
      "[9, 10000] loss: 1.119\n",
      "[9, 12000] loss: 1.101\n",
      "[10,  2000] loss: 1.074\n",
      "[10,  4000] loss: 1.070\n",
      "[10,  6000] loss: 1.095\n",
      "[10,  8000] loss: 1.066\n",
      "[10, 10000] loss: 1.075\n",
      "[10, 12000] loss: 1.070\n",
      "Finished Training\n"
     ]
    }
   ],
   "source": [
    "### Train network\n",
    "\n",
    "for epoch in range(10):\n",
    "    train_loss = 0\n",
    "\n",
    "    for i, data in enumerate(trainloader, 0):\n",
    "        inputs, labels = data # get the inputs; data is a list of [inputs, labels]\n",
    "        optimizer.zero_grad()\n",
    "        outputs = cnn(inputs)\n",
    "        loss = criterion(outputs, labels)\n",
    "        writer.add_scalar(\"Loss/train\", loss, epoch)\n",
    "        loss.backward()\n",
    "        optimizer.step()\n",
    "\n",
    "        # print statistics\n",
    "        train_loss += loss.item()\n",
    "        if i % 2000 == 1999:    # print every 2000 mini-batches\n",
    "            print(f'[{epoch + 1}, {i + 1:5d}] loss: {train_loss / 2000:.3f}')\n",
    "            train_loss = 0.0\n",
    "\n",
    "print('Finished Training')\n",
    "writer.flush()\n"
   ],
   "metadata": {
    "collapsed": false,
    "pycharm": {
     "name": "#%%\n"
    }
   }
  },
  {
   "cell_type": "code",
   "execution_count": 12,
   "outputs": [],
   "source": [
    "### Close Tensorboard\n",
    "\n",
    "writer.close()\n"
   ],
   "metadata": {
    "collapsed": false,
    "pycharm": {
     "name": "#%%\n"
    }
   }
  },
  {
   "cell_type": "code",
   "execution_count": 11,
   "outputs": [
    {
     "data": {
      "text/plain": "<Figure size 640x480 with 1 Axes>",
      "image/png": "[encoded data removed]"
     },
     "metadata": {},
     "output_type": "display_data"
    },
    {
     "name": "stdout",
     "output_type": "stream",
     "text": [
      "GroundTruth:  cat   ship  ship  plane\n",
      "Predicted:  dog   ship  ship  ship \n",
      "Accuracy of the network on the 10000 test images: 22 %\n"
     ]
    }
   ],
   "source": [
    "### Test network\n",
    "\n",
    "dataiter = iter(testloader)\n",
    "images, labels = next(dataiter)\n",
    "\n",
    "# print images\n",
    "imshow(torchvision.utils.make_grid(images))\n",
    "print('GroundTruth: ', ' '.join(f'{classes[labels[j]]:5s}' for j in range(4)))\n",
    "\n",
    "outputs = cnn(images)\n",
    "\n",
    "_, predicted = torch.max(outputs, 1)\n",
    "\n",
    "print('Predicted: ', ' '.join(f'{classes[predicted[j]]:5s}' for j in range(4)))\n",
    "\n",
    "correct = 0\n",
    "total = 0\n",
    "# since we're not training, we don't need to calculate the gradients for our outputs\n",
    "with torch.no_grad():\n",
    "    for data in testloader:\n",
    "        images, labels = data\n",
    "        # calculate outputs by running images through the network\n",
    "        outputs = cnn(images)\n",
    "        # the class with the highest energy is what we choose as prediction\n",
    "        _, predicted = torch.max(outputs.data, 1)\n",
    "        total += labels.size(0)\n",
    "        correct += (predicted == labels).sum().item()\n",
    "\n",
    "print(f'Accuracy of the network on the 10000 test images: {100 * correct // total} %')\n"
   ],
   "metadata": {
    "collapsed": false,
    "pycharm": {
     "name": "#%%\n"
    }
   }
  },
  {
   "cell_type": "code",
   "execution_count": null,
   "outputs": [],
   "source": [],
   "metadata": {
    "collapsed": false,
    "pycharm": {
     "name": "#%%\n"
    }
   }
  }
 ],
 "metadata": {
  "kernelspec": {
   "display_name": "Python 3",
   "language": "python",
   "name": "python3"
  },
  "language_info": {
   "codemirror_mode": {
    "name": "ipython",
    "version": 2
   },
   "file_extension": ".py",
   "mimetype": "text/x-python",
   "name": "python",
   "nbconvert_exporter": "python",
   "pygments_lexer": "ipython2",
   "version": "2.7.6"
  }
 },
 "nbformat": 4,
 "nbformat_minor": 0
}